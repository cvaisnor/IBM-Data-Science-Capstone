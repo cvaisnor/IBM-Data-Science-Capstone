{
    "cells": [
        {
            "cell_type": "markdown",
            "metadata": {},
            "source": "<center>\n    <img src=\"https://gitlab.com/ibm/skills-network/courses/placeholder101/-/raw/master/labs/module%201/images/IDSNlogo.png\"  width=\"300\" alt=\"cognitiveclass.ai logo\"  />\n</center>\n\n<h1 align=center><font size = 5>Assignment: SQL Notebook for Peer Assignment</font></h1>\n\nEstimated time needed: **60** minutes.\n\n## Introduction\n\nUsing this Python notebook you will:\n\n1.  Understand the Spacex DataSet\n2.  Load the dataset  into the corresponding table in a Db2 database\n3.  Execute SQL queries to answer assignment questions\n"
        },
        {
            "cell_type": "markdown",
            "metadata": {},
            "source": "## Overview of the DataSet\n\nSpaceX has gained worldwide attention for a series of historic milestones.\n\nIt is the only private company ever to return a spacecraft from low-earth orbit, which it first accomplished in December 2010.\nSpaceX advertises Falcon 9 rocket launches on its website with a cost of 62 million dollars wheras other providers cost upward of 165 million dollars each, much of the savings is because Space X can reuse the first stage.\n\nTherefore if we can determine if the first stage will land, we can determine the cost of a launch.\n\nThis information can be used if an alternate company wants to bid against SpaceX for a rocket launch.\n\nThis dataset includes a record for each payload carried during a SpaceX mission into outer space.\n"
        },
        {
            "cell_type": "markdown",
            "metadata": {},
            "source": "### Download the datasets\n\nThis assignment requires you to load the spacex dataset.\n\nIn many cases the dataset to be analyzed is available as a .CSV (comma separated values) file, perhaps on the internet. Click on the link below to download and save the dataset (.CSV file):\n\n<a href=\"https://cf-courses-data.s3.us.cloud-object-storage.appdomain.cloud/IBM-DS0321EN-SkillsNetwork/labs/module_2/data/Spacex.csv?utm_medium=Exinfluencer&utm_source=Exinfluencer&utm_content=000026UJ&utm_term=10006555&utm_id=NA-SkillsNetwork-Channel-SkillsNetworkCoursesIBMDS0321ENSkillsNetwork26802033-2021-01-01\" target=\"_blank\">Spacex DataSet</a>\n"
        },
        {
            "cell_type": "markdown",
            "metadata": {},
            "source": "### Store the dataset in database table\n\n**it is highly recommended to manually load the table using the database console LOAD tool in DB2**.\n\n<img src = \"https://cf-courses-data.s3.us.cloud-object-storage.appdomain.cloud/IBM-DS0321EN-SkillsNetwork/labs/module_2/images/spacexload.png\">\n\nNow open the Db2 console, open the LOAD tool, Select / Drag the .CSV file for the  dataset, Next create a New Table, and then follow the steps on-screen instructions to load the data. Name the new table as follows:\n\n**SPACEXDATASET**\n\n**Follow these steps while using old DB2 UI which is having Open Console Screen**\n\n**Note:While loading Spacex dataset, ensure that detect datatypes is disabled. Later click on the pencil icon(edit option).**\n\n1.  Change the Date Format by manually typing DD-MM-YYYY and timestamp format as DD-MM-YYYY HH\\:MM:SS\n\n2.  Change the PAYLOAD_MASS\\_\\_KG\\_  datatype  to INTEGER.\n\n<img src = \"https://cf-courses-data.s3.us.cloud-object-storage.appdomain.cloud/IBM-DS0321EN-SkillsNetwork/labs/module_2/images/spacexload2.png\">\n"
        },
        {
            "cell_type": "markdown",
            "metadata": {},
            "source": "**Changes to be considered when having DB2 instance with the new UI having Go to UI screen**\n\n*   Refer to this insruction in this <a href=\"https://cf-courses-data.s3.us.cloud-object-storage.appdomain.cloud/IBMDeveloperSkillsNetwork-DB0201EN-SkillsNetwork/labs/Labs_Coursera_V5/labs/Lab%20-%20Sign%20up%20for%20IBM%20Cloud%20-%20Create%20Db2%20service%20instance%20-%20Get%20started%20with%20the%20Db2%20console/instructional-labs.md.html?utm_medium=Exinfluencer&utm_source=Exinfluencer&utm_content=000026UJ&utm_term=10006555&utm_id=NA-SkillsNetwork-Channel-SkillsNetworkCoursesIBMDS0321ENSkillsNetwork26802033-2021-01-01\">link</a> for viewing  the new  Go to UI screen.\n\n*   Later click on **Data link(below SQL)**  in the Go to UI screen  and click on **Load Data** tab.\n\n*   Later browse for the downloaded spacex file.\n\n<img src=\"https://cf-courses-data.s3.us.cloud-object-storage.appdomain.cloud/IBM-DS0321EN-SkillsNetwork/labs/module_2/images/browsefile.png\" width=\"800\"/>\n\n*   Once done select the schema andload the file.\n\n <img src=\"https://cf-courses-data.s3.us.cloud-object-storage.appdomain.cloud/IBM-DS0321EN-SkillsNetwork/labs/module_2/images/spacexload3.png\" width=\"800\"/>\n"
        },
        {
            "cell_type": "code",
            "execution_count": 10,
            "metadata": {},
            "outputs": [
                {
                    "name": "stdout",
                    "output_type": "stream",
                    "text": "Requirement already satisfied: sqlalchemy in /Users/chrisvaisnor/opt/anaconda3/lib/python3.8/site-packages (1.3.9)\n"
                }
            ],
            "source": "# !pip install sqlalchemy\n# !pip install ibm_db_sa"
        },
        {
            "cell_type": "markdown",
            "metadata": {},
            "source": "### Connect to the database\n\nLet us first load the SQL extension and establish a connection with the database\n"
        },
        {
            "cell_type": "code",
            "execution_count": 1,
            "metadata": {},
            "outputs": [],
            "source": "%load_ext sql"
        },
        {
            "cell_type": "markdown",
            "metadata": {},
            "source": "**DB2 magic in case of old UI service credentials.**\n\nIn the next cell enter your db2 connection string. Recall you created Service Credentials for your Db2 instance before. From the **uri** field of your Db2 service credentials copy everything after db2:// (except the double quote at the end) and paste it in the cell below after ibm_db_sa://\n\n<img src =\"https://cf-courses-data.s3.us.cloud-object-storage.appdomain.cloud/IBMDeveloperSkillsNetwork-DB0201EN-SkillsNetwork/labs/FinalModule_edX/images/URI.jpg\">\n\nin the following format\n\n**%sql ibm_db_sa://my-username:my-password@my-hostname:my-port/my-db-name**\n\n**DB2 magic in case of new UI service credentials.**\n\n<img src =\"https://cf-courses-data.s3.us.cloud-object-storage.appdomain.cloud/IBM-DS0321EN-SkillsNetwork/labs/module_2/images/servicecredentials.png\" width=600>  \n\n*   Use the following format.\n\n*   Add security=SSL at the end\n\n**%sql ibm_db_sa://my-username:my-password@my-hostname:my-port/my-db-name?security=SSL**\n"
        },
        {
            "cell_type": "code",
            "execution_count": 2,
            "metadata": {},
            "outputs": [
                {
                    "name": "stdout",
                    "output_type": "stream",
                    "text": "DB2/LINUXX8664\n"
                }
            ],
            "source": "%sql ibm_db_sa://fvv98602:hVokU1laQ3DITvw1@54a2f15b-5c0f-46df-8954-7e38e612c2bd.c1ogj3sd0tgtu0lqde00.databases.appdomain.cloud:32733/bludb?security=SSL"
        },
        {
            "cell_type": "markdown",
            "metadata": {},
            "source": "## Tasks\n\nNow write and execute SQL queries to solve the assignment tasks.\n\n### Task 1\n\n##### Display the names of the unique launch sites  in the space mission\n"
        },
        {
            "cell_type": "code",
            "execution_count": 3,
            "metadata": {},
            "outputs": [
                {
                    "name": "stdout",
                    "output_type": "stream",
                    "text": " * ibm_db_sa://fvv98602:***@54a2f15b-5c0f-46df-8954-7e38e612c2bd.c1ogj3sd0tgtu0lqde00.databases.appdomain.cloud:32733/bludb\nDone.\n"
                },
                {
                    "data": {
                        "text/html": "<table>\n    <tr>\n        <th>launch_site</th>\n    </tr>\n    <tr>\n        <td>CCAFS LC-40</td>\n    </tr>\n    <tr>\n        <td>CCAFS SLC-40</td>\n    </tr>\n    <tr>\n        <td>CCAFSSLC-40</td>\n    </tr>\n    <tr>\n        <td>KSC LC-39A</td>\n    </tr>\n    <tr>\n        <td>VAFB SLC-4E</td>\n    </tr>\n</table>",
                        "text/plain": "[('CCAFS LC-40',),\n ('CCAFS SLC-40',),\n ('CCAFSSLC-40',),\n ('KSC LC-39A',),\n ('VAFB SLC-4E',)]"
                    },
                    "execution_count": 3,
                    "metadata": {},
                    "output_type": "execute_result"
                }
            ],
            "source": "%sql SELECT UNIQUE(LAUNCH_SITE) FROM SPACEXTBL;"
        },
        {
            "cell_type": "markdown",
            "metadata": {},
            "source": "### Task 2\n\n##### Display 5 records where launch sites begin with the string 'CCA'\n"
        },
        {
            "cell_type": "code",
            "execution_count": 6,
            "metadata": {},
            "outputs": [
                {
                    "name": "stdout",
                    "output_type": "stream",
                    "text": " * ibm_db_sa://fvv98602:***@54a2f15b-5c0f-46df-8954-7e38e612c2bd.c1ogj3sd0tgtu0lqde00.databases.appdomain.cloud:32733/bludb\nDone.\n"
                },
                {
                    "data": {
                        "text/html": "<table>\n    <tr>\n        <th>launch_site</th>\n    </tr>\n    <tr>\n        <td>CCAFS LC-40</td>\n    </tr>\n    <tr>\n        <td>CCAFS LC-40</td>\n    </tr>\n    <tr>\n        <td>CCAFS LC-40</td>\n    </tr>\n    <tr>\n        <td>CCAFS LC-40</td>\n    </tr>\n    <tr>\n        <td>CCAFS LC-40</td>\n    </tr>\n</table>",
                        "text/plain": "[('CCAFS LC-40',),\n ('CCAFS LC-40',),\n ('CCAFS LC-40',),\n ('CCAFS LC-40',),\n ('CCAFS LC-40',)]"
                    },
                    "execution_count": 6,
                    "metadata": {},
                    "output_type": "execute_result"
                }
            ],
            "source": "%%sql SELECT LAUNCH_SITE FROM SPACEXTBL\n    WHERE LAUNCH_SITE LIKE 'CCA%'\n    limit 5;"
        },
        {
            "cell_type": "markdown",
            "metadata": {},
            "source": "### Task 3\n\n##### Display the total payload mass carried by boosters launched by NASA (CRS)\n"
        },
        {
            "cell_type": "code",
            "execution_count": 7,
            "metadata": {},
            "outputs": [
                {
                    "name": "stdout",
                    "output_type": "stream",
                    "text": " * ibm_db_sa://fvv98602:***@54a2f15b-5c0f-46df-8954-7e38e612c2bd.c1ogj3sd0tgtu0lqde00.databases.appdomain.cloud:32733/bludb\nDone.\n"
                },
                {
                    "data": {
                        "text/html": "<table>\n    <tr>\n        <th>1</th>\n    </tr>\n    <tr>\n        <td>45596</td>\n    </tr>\n</table>",
                        "text/plain": "[(45596,)]"
                    },
                    "execution_count": 7,
                    "metadata": {},
                    "output_type": "execute_result"
                }
            ],
            "source": "%%sql SELECT SUM(PAYLOAD_MASS__KG_) FROM SPACEXTBL\n    WHERE CUSTOMER='NASA (CRS)';"
        },
        {
            "cell_type": "markdown",
            "metadata": {},
            "source": "### Task 4\n\n##### Display average payload mass carried by booster version F9 v1.1\n"
        },
        {
            "cell_type": "code",
            "execution_count": 18,
            "metadata": {},
            "outputs": [
                {
                    "name": "stdout",
                    "output_type": "stream",
                    "text": " * ibm_db_sa://fvv98602:***@54a2f15b-5c0f-46df-8954-7e38e612c2bd.c1ogj3sd0tgtu0lqde00.databases.appdomain.cloud:32733/bludb\nDone.\n"
                },
                {
                    "data": {
                        "text/html": "<table>\n    <tr>\n        <th>booster_version</th>\n        <th>2</th>\n    </tr>\n    <tr>\n        <td>F9 v1.1</td>\n        <td>2928</td>\n    </tr>\n</table>",
                        "text/plain": "[('F9 v1.1', 2928)]"
                    },
                    "execution_count": 18,
                    "metadata": {},
                    "output_type": "execute_result"
                }
            ],
            "source": "%%sql SELECT BOOSTER_VERSION, AVG(PAYLOAD_MASS__KG_) FROM SPACEXTBL\n    WHERE BOOSTER_VERSION='F9 v1.1'\n    GROUP BY BOOSTER_VERSION;"
        },
        {
            "cell_type": "markdown",
            "metadata": {},
            "source": "### Task 5\n\n##### List the date when the first succesful landing outcome in ground pad was acheived.\n\n*Hint:Use min function*\n"
        },
        {
            "cell_type": "code",
            "execution_count": 21,
            "metadata": {},
            "outputs": [
                {
                    "name": "stdout",
                    "output_type": "stream",
                    "text": " * ibm_db_sa://fvv98602:***@54a2f15b-5c0f-46df-8954-7e38e612c2bd.c1ogj3sd0tgtu0lqde00.databases.appdomain.cloud:32733/bludb\nDone.\n"
                },
                {
                    "data": {
                        "text/html": "<table>\n    <tr>\n        <th>1</th>\n    </tr>\n    <tr>\n        <td>2015-12-22</td>\n    </tr>\n</table>",
                        "text/plain": "[(datetime.date(2015, 12, 22),)]"
                    },
                    "execution_count": 21,
                    "metadata": {},
                    "output_type": "execute_result"
                }
            ],
            "source": "%%sql SELECT MIN(DATE) FROM SPACEXTBL\n    WHERE LANDING__OUTCOME='Success (ground pad)';"
        },
        {
            "cell_type": "markdown",
            "metadata": {},
            "source": "### Task 6\n\n##### List the names of the boosters which have success in drone ship and have payload mass greater than 4000 but less than 6000\n"
        },
        {
            "cell_type": "code",
            "execution_count": 29,
            "metadata": {},
            "outputs": [
                {
                    "name": "stdout",
                    "output_type": "stream",
                    "text": " * ibm_db_sa://fvv98602:***@54a2f15b-5c0f-46df-8954-7e38e612c2bd.c1ogj3sd0tgtu0lqde00.databases.appdomain.cloud:32733/bludb\nDone.\n"
                },
                {
                    "data": {
                        "text/html": "<table>\n    <tr>\n        <th>booster_version</th>\n        <th>payload_mass__kg_</th>\n        <th>landing__outcome</th>\n    </tr>\n    <tr>\n        <td>F9 v1.1</td>\n        <td>4535</td>\n        <td>No attempt</td>\n    </tr>\n    <tr>\n        <td>F9 v1.1 B1011</td>\n        <td>4428</td>\n        <td>No attempt</td>\n    </tr>\n    <tr>\n        <td>F9 v1.1 B1014</td>\n        <td>4159</td>\n        <td>No attempt</td>\n    </tr>\n    <tr>\n        <td>F9 v1.1 B1016</td>\n        <td>4707</td>\n        <td>No attempt</td>\n    </tr>\n    <tr>\n        <td>F9 FT B1020</td>\n        <td>5271</td>\n        <td>Failure (drone ship)</td>\n    </tr>\n    <tr>\n        <td>F9 FT B1022</td>\n        <td>4696</td>\n        <td>Success (drone ship)</td>\n    </tr>\n    <tr>\n        <td>F9 FT B1026</td>\n        <td>4600</td>\n        <td>Success (drone ship)</td>\n    </tr>\n    <tr>\n        <td>F9 FT B1030</td>\n        <td>5600</td>\n        <td>No attempt</td>\n    </tr>\n    <tr>\n        <td>F9 FT  B1021.2</td>\n        <td>5300</td>\n        <td>Success (drone ship)</td>\n    </tr>\n    <tr>\n        <td>F9 FT B1032.1</td>\n        <td>5300</td>\n        <td>Success (ground pad)</td>\n    </tr>\n    <tr>\n        <td>F9 B4 B1040.1</td>\n        <td>4990</td>\n        <td>Success (ground pad)</td>\n    </tr>\n    <tr>\n        <td>F9 FT  B1031.2</td>\n        <td>5200</td>\n        <td>Success (drone ship)</td>\n    </tr>\n    <tr>\n        <td>F9 B4 B1043.1</td>\n        <td>5000</td>\n        <td>Success (ground pad)</td>\n    </tr>\n    <tr>\n        <td>F9 FT  B1032.2</td>\n        <td>4230</td>\n        <td>Controlled (ocean)</td>\n    </tr>\n    <tr>\n        <td>F9 B4  B1040.2</td>\n        <td>5384</td>\n        <td>No attempt</td>\n    </tr>\n    <tr>\n        <td>F9 B5 B1046.2</td>\n        <td>5800</td>\n        <td>Success</td>\n    </tr>\n    <tr>\n        <td>F9 B5 B1047.2</td>\n        <td>5300</td>\n        <td>Success</td>\n    </tr>\n    <tr>\n        <td>F9 B5 B1046.3</td>\n        <td>4000</td>\n        <td>Success</td>\n    </tr>\n    <tr>\n        <td>F9 B5B1054</td>\n        <td>4400</td>\n        <td>No attempt</td>\n    </tr>\n    <tr>\n        <td>F9 B5 B1048.3</td>\n        <td>4850</td>\n        <td>Success</td>\n    </tr>\n    <tr>\n        <td>F9 B5 B1051.2</td>\n        <td>4200</td>\n        <td>Success</td>\n    </tr>\n    <tr>\n        <td>F9 B5B1060.1</td>\n        <td>4311</td>\n        <td>Success</td>\n    </tr>\n    <tr>\n        <td>F9 B5 B1058.2</td>\n        <td>5500</td>\n        <td>Success</td>\n    </tr>\n    <tr>\n        <td>F9 B5B1062.1</td>\n        <td>4311</td>\n        <td>Success</td>\n    </tr>\n</table>",
                        "text/plain": "[('F9 v1.1', 4535, 'No attempt'),\n ('F9 v1.1 B1011', 4428, 'No attempt'),\n ('F9 v1.1 B1014', 4159, 'No attempt'),\n ('F9 v1.1 B1016', 4707, 'No attempt'),\n ('F9 FT B1020', 5271, 'Failure (drone ship)'),\n ('F9 FT B1022', 4696, 'Success (drone ship)'),\n ('F9 FT B1026', 4600, 'Success (drone ship)'),\n ('F9 FT B1030', 5600, 'No attempt'),\n ('F9 FT  B1021.2', 5300, 'Success (drone ship)'),\n ('F9 FT B1032.1', 5300, 'Success (ground pad)'),\n ('F9 B4 B1040.1', 4990, 'Success (ground pad)'),\n ('F9 FT  B1031.2', 5200, 'Success (drone ship)'),\n ('F9 B4 B1043.1', 5000, 'Success (ground pad)'),\n ('F9 FT  B1032.2', 4230, 'Controlled (ocean)'),\n ('F9 B4  B1040.2', 5384, 'No attempt'),\n ('F9 B5 B1046.2', 5800, 'Success'),\n ('F9 B5 B1047.2', 5300, 'Success'),\n ('F9 B5 B1046.3', 4000, 'Success'),\n ('F9 B5B1054', 4400, 'No attempt'),\n ('F9 B5 B1048.3', 4850, 'Success'),\n ('F9 B5 B1051.2', 4200, 'Success'),\n ('F9 B5B1060.1', 4311, 'Success'),\n ('F9 B5 B1058.2', 5500, 'Success'),\n ('F9 B5B1062.1', 4311, 'Success')]"
                    },
                    "execution_count": 29,
                    "metadata": {},
                    "output_type": "execute_result"
                }
            ],
            "source": "%%sql SELECT BOOSTER_VERSION, PAYLOAD_MASS__KG_, LANDING__OUTCOME FROM SPACEXTBL\n    WHERE PAYLOAD_MASS__KG_ BETWEEN 4000 AND 6000;"
        },
        {
            "cell_type": "markdown",
            "metadata": {},
            "source": "### Task 7\n\n##### List the total number of successful and failure mission outcomes\n"
        },
        {
            "cell_type": "code",
            "execution_count": 32,
            "metadata": {},
            "outputs": [
                {
                    "name": "stdout",
                    "output_type": "stream",
                    "text": " * ibm_db_sa://fvv98602:***@54a2f15b-5c0f-46df-8954-7e38e612c2bd.c1ogj3sd0tgtu0lqde00.databases.appdomain.cloud:32733/bludb\nDone.\n"
                },
                {
                    "data": {
                        "text/html": "<table>\n    <tr>\n        <th>mission_outcome</th>\n        <th>2</th>\n    </tr>\n    <tr>\n        <td>Failure (in flight)</td>\n        <td>1</td>\n    </tr>\n    <tr>\n        <td>Success</td>\n        <td>99</td>\n    </tr>\n    <tr>\n        <td>Success (payload status unclear)</td>\n        <td>1</td>\n    </tr>\n</table>",
                        "text/plain": "[('Failure (in flight)', 1),\n ('Success', 99),\n ('Success (payload status unclear)', 1)]"
                    },
                    "execution_count": 32,
                    "metadata": {},
                    "output_type": "execute_result"
                }
            ],
            "source": "%%sql SELECT MISSION_OUTCOME, COUNT(MISSION_OUTCOME) FROM SPACEXTBL\n    GROUP BY MISSION_OUTCOME;"
        },
        {
            "cell_type": "markdown",
            "metadata": {},
            "source": "### Task 8\n\n##### List the   names of the booster_versions which have carried the maximum payload mass. Use a subquery\n"
        },
        {
            "cell_type": "code",
            "execution_count": 37,
            "metadata": {},
            "outputs": [
                {
                    "name": "stdout",
                    "output_type": "stream",
                    "text": " * ibm_db_sa://fvv98602:***@54a2f15b-5c0f-46df-8954-7e38e612c2bd.c1ogj3sd0tgtu0lqde00.databases.appdomain.cloud:32733/bludb\nDone.\n"
                },
                {
                    "data": {
                        "text/html": "<table>\n    <tr>\n        <th>payload_mass__kg_</th>\n        <th>booster_version</th>\n    </tr>\n    <tr>\n        <td>15600</td>\n        <td>F9 B5 B1048.4</td>\n    </tr>\n    <tr>\n        <td>15600</td>\n        <td>F9 B5 B1049.4</td>\n    </tr>\n    <tr>\n        <td>15600</td>\n        <td>F9 B5 B1051.3</td>\n    </tr>\n    <tr>\n        <td>15600</td>\n        <td>F9 B5 B1056.4</td>\n    </tr>\n    <tr>\n        <td>15600</td>\n        <td>F9 B5 B1048.5</td>\n    </tr>\n    <tr>\n        <td>15600</td>\n        <td>F9 B5 B1051.4</td>\n    </tr>\n    <tr>\n        <td>15600</td>\n        <td>F9 B5 B1049.5</td>\n    </tr>\n    <tr>\n        <td>15600</td>\n        <td>F9 B5 B1060.2</td>\n    </tr>\n    <tr>\n        <td>15600</td>\n        <td>F9 B5 B1058.3</td>\n    </tr>\n    <tr>\n        <td>15600</td>\n        <td>F9 B5 B1051.6</td>\n    </tr>\n    <tr>\n        <td>15600</td>\n        <td>F9 B5 B1060.3</td>\n    </tr>\n    <tr>\n        <td>15600</td>\n        <td>F9 B5 B1049.7</td>\n    </tr>\n</table>",
                        "text/plain": "[(15600, 'F9 B5 B1048.4'),\n (15600, 'F9 B5 B1049.4'),\n (15600, 'F9 B5 B1051.3'),\n (15600, 'F9 B5 B1056.4'),\n (15600, 'F9 B5 B1048.5'),\n (15600, 'F9 B5 B1051.4'),\n (15600, 'F9 B5 B1049.5'),\n (15600, 'F9 B5 B1060.2'),\n (15600, 'F9 B5 B1058.3'),\n (15600, 'F9 B5 B1051.6'),\n (15600, 'F9 B5 B1060.3'),\n (15600, 'F9 B5 B1049.7')]"
                    },
                    "execution_count": 37,
                    "metadata": {},
                    "output_type": "execute_result"
                }
            ],
            "source": "%%sql SELECT PAYLOAD_MASS__KG_, BOOSTER_VERSION FROM SPACEXTBL\n    WHERE PAYLOAD_MASS__KG_ = (SELECT MAX(PAYLOAD_MASS__KG_) FROM SPACEXTBL);"
        },
        {
            "cell_type": "markdown",
            "metadata": {},
            "source": "### Task 9\n\n##### List the records which will display the month names, failure landing_outcomes in drone ship ,booster versions, launch_site for the months in year 2015\n"
        },
        {
            "cell_type": "code",
            "execution_count": 47,
            "metadata": {},
            "outputs": [
                {
                    "name": "stdout",
                    "output_type": "stream",
                    "text": " * ibm_db_sa://fvv98602:***@54a2f15b-5c0f-46df-8954-7e38e612c2bd.c1ogj3sd0tgtu0lqde00.databases.appdomain.cloud:32733/bludb\nDone.\n"
                },
                {
                    "data": {
                        "text/html": "<table>\n    <tr>\n        <th>DATE</th>\n        <th>landing__outcome</th>\n        <th>booster_version</th>\n        <th>launch_site</th>\n    </tr>\n    <tr>\n        <td>2015-01-10</td>\n        <td>Failure (drone ship)</td>\n        <td>F9 v1.1 B1012</td>\n        <td>CCAFS LC-40</td>\n    </tr>\n    <tr>\n        <td>2015-04-14</td>\n        <td>Failure (drone ship)</td>\n        <td>F9 v1.1 B1015</td>\n        <td>CCAFS LC-40</td>\n    </tr>\n    <tr>\n        <td>2016-01-17</td>\n        <td>Failure (drone ship)</td>\n        <td>F9 v1.1 B1017</td>\n        <td>VAFB SLC-4E</td>\n    </tr>\n    <tr>\n        <td>2016-03-04</td>\n        <td>Failure (drone ship)</td>\n        <td>F9 FT B1020</td>\n        <td>CCAFS LC-40</td>\n    </tr>\n    <tr>\n        <td>2016-06-15</td>\n        <td>Failure (drone ship)</td>\n        <td>F9 FT B1024</td>\n        <td>CCAFS LC-40</td>\n    </tr>\n</table>",
                        "text/plain": "[(datetime.date(2015, 1, 10), 'Failure (drone ship)', 'F9 v1.1 B1012', 'CCAFS LC-40'),\n (datetime.date(2015, 4, 14), 'Failure (drone ship)', 'F9 v1.1 B1015', 'CCAFS LC-40'),\n (datetime.date(2016, 1, 17), 'Failure (drone ship)', 'F9 v1.1 B1017', 'VAFB SLC-4E'),\n (datetime.date(2016, 3, 4), 'Failure (drone ship)', 'F9 FT B1020', 'CCAFS LC-40'),\n (datetime.date(2016, 6, 15), 'Failure (drone ship)', 'F9 FT B1024', 'CCAFS LC-40')]"
                    },
                    "execution_count": 47,
                    "metadata": {},
                    "output_type": "execute_result"
                }
            ],
            "source": "%%sql SELECT  DATE, LANDING__OUTCOME, BOOSTER_VERSION, LAUNCH_SITE FROM SPACEXTBL\n    WHERE LANDING__OUTCOME = 'Failure (drone ship)';"
        },
        {
            "cell_type": "markdown",
            "metadata": {},
            "source": "### Task 10\n\n##### Rank the  count of  successful landing_outcomes between the date 2010-06-04 and 2017-03-20 in descending order.\n"
        },
        {
            "cell_type": "code",
            "execution_count": 67,
            "metadata": {},
            "outputs": [
                {
                    "name": "stdout",
                    "output_type": "stream",
                    "text": " * ibm_db_sa://fvv98602:***@54a2f15b-5c0f-46df-8954-7e38e612c2bd.c1ogj3sd0tgtu0lqde00.databases.appdomain.cloud:32733/bludb\nDone.\n"
                },
                {
                    "data": {
                        "text/html": "<table>\n    <tr>\n        <th>landing__outcome</th>\n        <th>DATE</th>\n    </tr>\n    <tr>\n        <td>Success (ground pad)</td>\n        <td>2015-12-22</td>\n    </tr>\n    <tr>\n        <td>Success (drone ship)</td>\n        <td>2016-04-08</td>\n    </tr>\n    <tr>\n        <td>Success (drone ship)</td>\n        <td>2016-05-06</td>\n    </tr>\n    <tr>\n        <td>Success (drone ship)</td>\n        <td>2016-05-27</td>\n    </tr>\n    <tr>\n        <td>Success (ground pad)</td>\n        <td>2016-07-18</td>\n    </tr>\n    <tr>\n        <td>Success (drone ship)</td>\n        <td>2016-08-14</td>\n    </tr>\n    <tr>\n        <td>Success (drone ship)</td>\n        <td>2017-01-14</td>\n    </tr>\n    <tr>\n        <td>Success (ground pad)</td>\n        <td>2017-02-19</td>\n    </tr>\n    <tr>\n        <td>Success (drone ship)</td>\n        <td>2017-03-30</td>\n    </tr>\n    <tr>\n        <td>Success (ground pad)</td>\n        <td>2017-05-01</td>\n    </tr>\n    <tr>\n        <td>Success (ground pad)</td>\n        <td>2017-06-03</td>\n    </tr>\n    <tr>\n        <td>Success (drone ship)</td>\n        <td>2017-06-23</td>\n    </tr>\n    <tr>\n        <td>Success (drone ship)</td>\n        <td>2017-06-25</td>\n    </tr>\n    <tr>\n        <td>Success (ground pad)</td>\n        <td>2017-08-14</td>\n    </tr>\n    <tr>\n        <td>Success (drone ship)</td>\n        <td>2017-08-24</td>\n    </tr>\n    <tr>\n        <td>Success (ground pad)</td>\n        <td>2017-09-07</td>\n    </tr>\n    <tr>\n        <td>Success (drone ship)</td>\n        <td>2017-10-09</td>\n    </tr>\n    <tr>\n        <td>Success (drone ship)</td>\n        <td>2017-10-11</td>\n    </tr>\n    <tr>\n        <td>Success (drone ship)</td>\n        <td>2017-10-30</td>\n    </tr>\n    <tr>\n        <td>Success (ground pad)</td>\n        <td>2017-12-15</td>\n    </tr>\n    <tr>\n        <td>Success (ground pad)</td>\n        <td>2018-01-08</td>\n    </tr>\n    <tr>\n        <td>Success (drone ship)</td>\n        <td>2018-04-18</td>\n    </tr>\n    <tr>\n        <td>Success (drone ship)</td>\n        <td>2018-05-11</td>\n    </tr>\n    <tr>\n        <td>Success</td>\n        <td>2018-07-22</td>\n    </tr>\n    <tr>\n        <td>Success</td>\n        <td>2018-07-25</td>\n    </tr>\n    <tr>\n        <td>Success</td>\n        <td>2018-08-07</td>\n    </tr>\n    <tr>\n        <td>Success</td>\n        <td>2018-09-10</td>\n    </tr>\n    <tr>\n        <td>Success</td>\n        <td>2018-10-08</td>\n    </tr>\n    <tr>\n        <td>Success</td>\n        <td>2018-11-15</td>\n    </tr>\n    <tr>\n        <td>Success</td>\n        <td>2018-12-03</td>\n    </tr>\n    <tr>\n        <td>Success</td>\n        <td>2019-01-11</td>\n    </tr>\n    <tr>\n        <td>Success</td>\n        <td>2019-02-22</td>\n    </tr>\n    <tr>\n        <td>Success</td>\n        <td>2019-03-02</td>\n    </tr>\n    <tr>\n        <td>Success</td>\n        <td>2019-05-04</td>\n    </tr>\n    <tr>\n        <td>Success</td>\n        <td>2019-05-24</td>\n    </tr>\n    <tr>\n        <td>Success</td>\n        <td>2019-06-12</td>\n    </tr>\n    <tr>\n        <td>Success</td>\n        <td>2019-07-25</td>\n    </tr>\n    <tr>\n        <td>Success</td>\n        <td>2019-11-11</td>\n    </tr>\n    <tr>\n        <td>Success</td>\n        <td>2019-12-05</td>\n    </tr>\n    <tr>\n        <td>Success</td>\n        <td>2019-12-17</td>\n    </tr>\n    <tr>\n        <td>Success</td>\n        <td>2020-01-07</td>\n    </tr>\n    <tr>\n        <td>Success</td>\n        <td>2020-01-29</td>\n    </tr>\n    <tr>\n        <td>Success</td>\n        <td>2020-03-07</td>\n    </tr>\n    <tr>\n        <td>Success</td>\n        <td>2020-04-22</td>\n    </tr>\n    <tr>\n        <td>Success</td>\n        <td>2020-05-30</td>\n    </tr>\n    <tr>\n        <td>Success</td>\n        <td>2020-06-04</td>\n    </tr>\n    <tr>\n        <td>Success</td>\n        <td>2020-06-13</td>\n    </tr>\n    <tr>\n        <td>Success</td>\n        <td>2020-06-30</td>\n    </tr>\n    <tr>\n        <td>Success</td>\n        <td>2020-07-20</td>\n    </tr>\n    <tr>\n        <td>Success</td>\n        <td>2020-08-07</td>\n    </tr>\n    <tr>\n        <td>Success</td>\n        <td>2020-08-18</td>\n    </tr>\n    <tr>\n        <td>Success</td>\n        <td>2020-08-30</td>\n    </tr>\n    <tr>\n        <td>Success</td>\n        <td>2020-09-03</td>\n    </tr>\n    <tr>\n        <td>Success</td>\n        <td>2020-10-06</td>\n    </tr>\n    <tr>\n        <td>Success</td>\n        <td>2020-10-18</td>\n    </tr>\n    <tr>\n        <td>Success</td>\n        <td>2020-10-24</td>\n    </tr>\n    <tr>\n        <td>Success</td>\n        <td>2020-11-05</td>\n    </tr>\n    <tr>\n        <td>Success</td>\n        <td>2020-11-16</td>\n    </tr>\n    <tr>\n        <td>Success</td>\n        <td>2020-11-21</td>\n    </tr>\n    <tr>\n        <td>Success</td>\n        <td>2020-11-25</td>\n    </tr>\n    <tr>\n        <td>Success</td>\n        <td>2020-12-06</td>\n    </tr>\n</table>",
                        "text/plain": "[('Success (ground pad)', datetime.date(2015, 12, 22)),\n ('Success (drone ship)', datetime.date(2016, 4, 8)),\n ('Success (drone ship)', datetime.date(2016, 5, 6)),\n ('Success (drone ship)', datetime.date(2016, 5, 27)),\n ('Success (ground pad)', datetime.date(2016, 7, 18)),\n ('Success (drone ship)', datetime.date(2016, 8, 14)),\n ('Success (drone ship)', datetime.date(2017, 1, 14)),\n ('Success (ground pad)', datetime.date(2017, 2, 19)),\n ('Success (drone ship)', datetime.date(2017, 3, 30)),\n ('Success (ground pad)', datetime.date(2017, 5, 1)),\n ('Success (ground pad)', datetime.date(2017, 6, 3)),\n ('Success (drone ship)', datetime.date(2017, 6, 23)),\n ('Success (drone ship)', datetime.date(2017, 6, 25)),\n ('Success (ground pad)', datetime.date(2017, 8, 14)),\n ('Success (drone ship)', datetime.date(2017, 8, 24)),\n ('Success (ground pad)', datetime.date(2017, 9, 7)),\n ('Success (drone ship)', datetime.date(2017, 10, 9)),\n ('Success (drone ship)', datetime.date(2017, 10, 11)),\n ('Success (drone ship)', datetime.date(2017, 10, 30)),\n ('Success (ground pad)', datetime.date(2017, 12, 15)),\n ('Success (ground pad)', datetime.date(2018, 1, 8)),\n ('Success (drone ship)', datetime.date(2018, 4, 18)),\n ('Success (drone ship)', datetime.date(2018, 5, 11)),\n ('Success', datetime.date(2018, 7, 22)),\n ('Success', datetime.date(2018, 7, 25)),\n ('Success', datetime.date(2018, 8, 7)),\n ('Success', datetime.date(2018, 9, 10)),\n ('Success', datetime.date(2018, 10, 8)),\n ('Success', datetime.date(2018, 11, 15)),\n ('Success', datetime.date(2018, 12, 3)),\n ('Success', datetime.date(2019, 1, 11)),\n ('Success', datetime.date(2019, 2, 22)),\n ('Success', datetime.date(2019, 3, 2)),\n ('Success', datetime.date(2019, 5, 4)),\n ('Success', datetime.date(2019, 5, 24)),\n ('Success', datetime.date(2019, 6, 12)),\n ('Success', datetime.date(2019, 7, 25)),\n ('Success', datetime.date(2019, 11, 11)),\n ('Success', datetime.date(2019, 12, 5)),\n ('Success', datetime.date(2019, 12, 17)),\n ('Success', datetime.date(2020, 1, 7)),\n ('Success', datetime.date(2020, 1, 29)),\n ('Success', datetime.date(2020, 3, 7)),\n ('Success', datetime.date(2020, 4, 22)),\n ('Success', datetime.date(2020, 5, 30)),\n ('Success', datetime.date(2020, 6, 4)),\n ('Success', datetime.date(2020, 6, 13)),\n ('Success', datetime.date(2020, 6, 30)),\n ('Success', datetime.date(2020, 7, 20)),\n ('Success', datetime.date(2020, 8, 7)),\n ('Success', datetime.date(2020, 8, 18)),\n ('Success', datetime.date(2020, 8, 30)),\n ('Success', datetime.date(2020, 9, 3)),\n ('Success', datetime.date(2020, 10, 6)),\n ('Success', datetime.date(2020, 10, 18)),\n ('Success', datetime.date(2020, 10, 24)),\n ('Success', datetime.date(2020, 11, 5)),\n ('Success', datetime.date(2020, 11, 16)),\n ('Success', datetime.date(2020, 11, 21)),\n ('Success', datetime.date(2020, 11, 25)),\n ('Success', datetime.date(2020, 12, 6))]"
                    },
                    "execution_count": 67,
                    "metadata": {},
                    "output_type": "execute_result"
                }
            ],
            "source": "%%sql SELECT LANDING__OUTCOME, DATE FROM SPACEXTBL\n    WHERE LANDING__OUTCOME LIKE 'Success%';"
        },
        {
            "cell_type": "markdown",
            "metadata": {},
            "source": "### Reference Links\n\n*   <a href =\"https://cf-courses-data.s3.us.cloud-object-storage.appdomain.cloud/IBMDeveloperSkillsNetwork-DB0201EN-SkillsNetwork/labs/Labs_Coursera_V5/labs/Lab%20-%20String%20Patterns%20-%20Sorting%20-%20Grouping/instructional-labs.md.html?utm_medium=Exinfluencer&utm_source=Exinfluencer&utm_content=000026UJ&utm_term=10006555&utm_id=NA-SkillsNetwork-Channel-SkillsNetworkCoursesIBMDS0321ENSkillsNetwork26802033-2021-01-01&origin=www.coursera.org\">Hands-on Lab : String Patterns, Sorting and Grouping</a>\n\n*   <a  href=\"https://cf-courses-data.s3.us.cloud-object-storage.appdomain.cloud/IBMDeveloperSkillsNetwork-DB0201EN-SkillsNetwork/labs/Labs_Coursera_V5/labs/Lab%20-%20Built-in%20functions%20/Hands-on_Lab__Built-in_Functions.md.html?utm_medium=Exinfluencer&utm_source=Exinfluencer&utm_content=000026UJ&utm_term=10006555&utm_id=NA-SkillsNetwork-Channel-SkillsNetworkCoursesIBMDS0321ENSkillsNetwork26802033-2021-01-01&origin=www.coursera.org\">Hands-on Lab: Built-in functions</a>\n\n*   <a  href=\"https://cf-courses-data.s3.us.cloud-object-storage.appdomain.cloud/IBMDeveloperSkillsNetwork-DB0201EN-SkillsNetwork/labs/Labs_Coursera_V5/labs/Lab%20-%20Sub-queries%20and%20Nested%20SELECTs%20/instructional-labs.md.html?utm_medium=Exinfluencer&utm_source=Exinfluencer&utm_content=000026UJ&utm_term=10006555&utm_id=NA-SkillsNetwork-Channel-SkillsNetworkCoursesIBMDS0321ENSkillsNetwork26802033-2021-01-01&origin=www.coursera.org\">Hands-on Lab : Sub-queries and Nested SELECT Statements</a>\n\n*   <a href=\"https://cf-courses-data.s3.us.cloud-object-storage.appdomain.cloud/IBMDeveloperSkillsNetwork-DB0201EN-SkillsNetwork/labs/Module%205/DB0201EN-Week3-1-3-SQLmagic.ipynb?utm_medium=Exinfluencer&utm_source=Exinfluencer&utm_content=000026UJ&utm_term=10006555&utm_id=NA-SkillsNetwork-Channel-SkillsNetworkCoursesIBMDS0321ENSkillsNetwork26802033-2021-01-01\">Hands-on Tutorial: Accessing Databases with SQL magic</a>\n\n*   <a href= \"https://cf-courses-data.s3.us.cloud-object-storage.appdomain.cloud/IBMDeveloperSkillsNetwork-DB0201EN-SkillsNetwork/labs/Module%205/DB0201EN-Week3-1-4-Analyzing.ipynb?utm_medium=Exinfluencer&utm_source=Exinfluencer&utm_content=000026UJ&utm_term=10006555&utm_id=NA-SkillsNetwork-Channel-SkillsNetworkCoursesIBMDS0321ENSkillsNetwork26802033-2021-01-01\">Hands-on Lab: Analyzing a real World Data Set</a>\n"
        },
        {
            "cell_type": "markdown",
            "metadata": {},
            "source": "## Author(s)\n\n<h4> Lakshmi Holla </h4>\n"
        },
        {
            "cell_type": "markdown",
            "metadata": {},
            "source": "## Other Contributors\n\n<h4> Rav Ahuja </h4>\n"
        },
        {
            "cell_type": "markdown",
            "metadata": {},
            "source": "## Change log\n\n| Date | Version | Changed by | Change Description |\n|------|--------|--------|---------|\n| 2021-07-09 | 0.2 |Lakshmi Holla | Changes made in magic sql|\n| 2021-05-20 | 0.1 |Lakshmi Holla | Created Initial Version |\n"
        },
        {
            "cell_type": "markdown",
            "metadata": {},
            "source": "## <h3 align=\"center\"> \u00a9 IBM Corporation 2021. All rights reserved. <h3/>\n"
        }
    ],
    "metadata": {
        "kernelspec": {
            "display_name": "Python 3",
            "language": "python",
            "name": "python3"
        },
        "language_info": {
            "codemirror_mode": {
                "name": "ipython",
                "version": 3
            },
            "file_extension": ".py",
            "mimetype": "text/x-python",
            "name": "python",
            "nbconvert_exporter": "python",
            "pygments_lexer": "ipython3",
            "version": "3.8.8"
        }
    },
    "nbformat": 4,
    "nbformat_minor": 4
}